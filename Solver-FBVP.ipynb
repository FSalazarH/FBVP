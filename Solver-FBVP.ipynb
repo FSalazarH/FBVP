{
 "cells": [
  {
   "cell_type": "markdown",
   "metadata": {},
   "source": [
    "<img src=\"escudo_utfsm.gif\" style=\"float:right;height:100px\">\n",
    "<img src=\"IsotipoDIisocolor.png\" style=\"float:left;height:100px\">\n",
    "<center>\n",
    "    <h1> ILI286 Computación Científica II</h1>\n",
    "    <h1> Tarea N°4: Boundary Value Problems</h1>\n",
    "    <h3> Francisco Alberto Salazar Herrera</h3>\n",
    "</center>\n",
    "\n",
    "<p>\n",
    "<center>_Julio 2018_ </center>\n",
    "</p>"
   ]
  },
  {
   "cell_type": "markdown",
   "metadata": {},
   "source": [
    "## Introducción\n",
    "\n",
    "En esta tarea se presenta una variante de los problemas de valor de frontera (BVP) [[1]](#ref). Estos problemas son conocidos como Problemas de Valor de Frontera Fraccionales o *Fractional Boundary Value Problems* (FBVPs). Los problemas de valor de frontera de orden fraccional son aplicados en múltiples disciplinas como la fisica, la química, biología, procesamiento de señales, etc [[2]](#ref), [[3]](#ref). En esta tarea resolveremos un FBVP mediante el uso de diferencias finitas e integración numérica basado en un método que describiremos posteriormente."
   ]
  },
  {
   "cell_type": "markdown",
   "metadata": {},
   "source": [
    "# Derivadas fraccionales\n",
    "\n",
    "El cálculo fraccional es una rama de la matemática analítica que introduce la posibilidad de derivar con orden $\\alpha \\in \\mathbb{C}$. Esta es una generalización del cálculo básico y mantiene muchas de las propiedades básica. En este contexto es posible obtener, por ejemplo, la derivada $D^{\\frac{1}{2}}$, donde $D$ es el operador diferencial. En el año 1967 Michelle Caputo introdujo una opción para calcular derivadas fraccionales, conocida como la *derivada fraccional de Caputo* de orden $\\alpha$, que se define como:\n",
    "\n",
    "$$\n",
    "{}D^\\alpha\\left[f(x)\\right]=\\frac{1}{\\Gamma(1-\\alpha)} \\int_0^x \\frac{f'(s) \\, ds}{(x-s)^{\\alpha}}, \\, \\alpha > 0,\n",
    "$$\n",
    "\n",
    "donde $f(x)$ es una función definida en el intervalo $[a,b]$ y $\\alpha \\in (0, 1)$.\n",
    "\n",
    "#### Propiedades\n",
    "\n",
    "Sea $\\, f(x) \\in C^{1}[0,1]$ y $\\alpha \\in (0,1)$, $m \\in \\mathbb{N}$ y $g(x) \\in C^{1}[0,1]$. Entonces para $x \\in [0,1]$:\n",
    "\n",
    "1. $D^{\\alpha}\\left[ D^{-\\alpha} \\left[g(x)\\right] \\right] = g(x)$,\n",
    "2. $D^{-\\alpha} \\left[ D^{\\alpha} \\left[f(x) \\right]\\right] = f(x) - \\displaystyle \\sum_{k=0}^{m-1} \\frac{x^k}{k!}f^{(k)}(0)$,\n",
    "3. $D^{m - \\alpha} \\left[f(x)\\right] = D^{-\\alpha}\\left[f^{(m)}(x)\\right]$,\n",
    "4. $\\displaystyle \\lim_{x \\to 0} \\, D^{\\alpha} \\,\\left[ f(x) \\right]$ = $\\displaystyle \\lim_{x \\to 0} D^{-\\alpha} \\left[ f(x) \\right] = 0$\n"
   ]
  },
  {
   "cell_type": "markdown",
   "metadata": {},
   "source": [
    "## Método para resolver Problemas de valor de frontera fraccionales (FBVPs) [[5]](#ref)\n",
    "\n",
    "Para describir el método, consideremos el siguiente problema de valor de frontera fraccional (FBVPs):\n",
    "\n",
    "$$\n",
    "D^{-\\alpha} \\left[ \\ddot{y}(x) \\right] + y(x) \\, p(x) = g(x), \\, \\, 0 \\leq \\alpha < 1,\\,\\, x \\in [a,b],\n",
    "$$\n",
    "\n",
    "sujeto a las condiciones de frontera\n",
    "\n",
    "$$\n",
    "y(a)=y(b)=0,\n",
    "$$\n",
    "\n",
    "donde las funciones $p(x)$ y $g(x)$ son continuas en el intervalo $[a,b]$ y el operador $D^{\\alpha}$ representa la derivada fraccional de Caputo de orden $\\alpha$. Notar que cuando $\\alpha = 0$ obtenemos un problema clasico de valor de frontera de segundo orden. El objetivo de este método es utilizar Diferencias Finitas y aproximaciones numéricas de las integrales para encontrar una aproximación de la solución del problema. Para hacer esto, primero convertimos el FBVP anterior en lo siguiente:\n",
    "\n",
    "$$\n",
    "\\ddot{y}(x) + D^{\\alpha}\\left[ y(x) \\,\\, p(x) \\right] = D^{\\alpha}\\left[ g(x) \\right], \\,\\, 0 \\leq \\alpha < 1, \\, \\, x \\in [a,b].\n",
    "$$\n",
    "\n",
    "Aplicando la derivada fraccional de Caputo, el FBVP toma la siguiente forma:\n",
    "\n",
    "$$\n",
    "\\ddot{y}(x) = \\frac{1}{\\Gamma(1-\\alpha)} \\left(\\Omega(x) - \\Phi(x) -\\Xi(x) \\right), \\,\\, i = 1,2,...,n-1,\n",
    "$$\n",
    "\n",
    "donde:\n",
    "$$\n",
    "\\Omega(x) = \\int_0^{x} (x-s)^{-\\alpha} g'(s)ds,\\\\\n",
    "\\Phi(x) = \\int_0^{x} (x-s)^{-\\alpha} y(s)p'(s)ds,\\\\\n",
    "\\Xi(x) = \\int_0^{x} (x-s)^{-\\alpha} y'(s)p(s)ds.\n",
    "$$\n",
    "\n",
    "Utilizando métodos para aproximar los valores de la integral y diferencias finitas podemos encontrar una aproximación a la solución del FBVP."
   ]
  },
  {
   "cell_type": "markdown",
   "metadata": {},
   "source": [
    "## Pregunta 1\n",
    "\n",
    "Suponga la siguiente FBVP:\n",
    "\n",
    "$$\n",
    "D^{-\\alpha}\\left[ y''(x) \\right] + y(x) = \\frac{720}{\\Gamma(5+\\alpha)}x^{4+\\alpha} - \\frac{40320}{\\Gamma(7+\\alpha)}x^{6+\\alpha} + (1-x^{2})x^{6},\\\\\n",
    "y(0)=y(1) = 0,\n",
    "$$\n",
    "\n",
    "cuya solución analítica es:\n",
    "\n",
    "$$\n",
    "y(x) = (1-x^{2})x^{6}.\n",
    "$$"
   ]
  },
  {
   "cell_type": "markdown",
   "metadata": {},
   "source": [
    "## Desarrollo Pregunta 1\n",
    "\n",
    "$$\n",
    "D^{-\\alpha}\\left[ y''(x) \\right] + y(x) = \\frac{720}{\\Gamma{(5+\\alpha)}}x^{4+\\alpha} - \\frac{40320}{\\Gamma(7 + \\alpha)}x^{6+\\alpha} + (1-x^2)x^6 \n",
    "$$\n",
    "\n",
    "Sea: \n",
    "\n",
    "$$\n",
    "c_1 = \\frac{720}{\\Gamma{(5+\\alpha)}} \\text{ , } \\hspace{0.2cm} c_2 = \\frac{40320}{\\Gamma{(7+\\alpha)}}\n",
    "$$\n",
    "\n",
    "Aplicando derivada de caputo de orden $\\alpha$:\n",
    "\n",
    "$$\n",
    "y''(x) + D^{\\alpha}\\left[ y(x) \\right] = D^{\\alpha}\\left[ c_1 x^{4 + \\alpha} \\right] - D^{\\alpha}\\left[ c_2 x^{6+\\alpha} \\right] + D^{\\alpha}\\left[ (x^6 - x^8) \\right] \n",
    "$$\n",
    "\n",
    "Redefiniendo las constantes:\n",
    " \n",
    "$$\n",
    "c_1 = \\frac{720 (4+\\alpha)}{\\Gamma(5+\\alpha)}, c_2 = \\frac{40320(6+\\alpha)}{\\Gamma(7+\\alpha)}\n",
    "$$\n",
    "\n",
    "Tenemos finalmente:\n",
    "\n",
    "$$\n",
    "y''(x) = \\frac{1}{\\Gamma(1-\\alpha)}\\left( c_1\\int_{0}^{x}\\frac{s^{3+\\alpha}}{(x-s)^\\alpha}ds - c_2 \\int_{0}^{x}\\frac{s^{5+\\alpha}}{(x-s)^\\alpha}ds - \\int_{0}^{x} \\frac{6s^5 - 8s^7}{(x-s)^\\alpha}ds  - \\int_{0}^{x}\\frac{y'(s)}{(x-s)^\\alpha}ds\\right)\n",
    "$$\n",
    "\n",
    "Los valores de las integrales los podemos hallar mediante integración numérica, asumiendo que los tenemos:\n",
    "\n",
    "$$\n",
    "y''(x) = \\Theta(x) - \\frac{1}{\\Gamma{(1- \\alpha)}}  \\int_{0}^{x}\\frac{y'(s)}{(x-s)^\\alpha}ds\n",
    "$$\n",
    "\n",
    "Luego, haciendo aproximaciones de las derivadas mediante diferencias finitas:\n",
    "\n",
    "Sea: \n",
    "$$\n",
    "\\begin{align}\n",
    "y_i &= y(x_i)\\\\\n",
    "y_0 &= y_1 = 0\n",
    "\\end{align}\n",
    "$$\n",
    "\n",
    "Para $0<i<n$ se satisface la EDO: \n",
    "\n",
    "$$\\frac{y_{i+1} - 2y_i + y_{i-1}}{h^2} = \\Theta(x_i) - \\frac{1}{\\Gamma{(1- \\alpha)}} \\int_{0}^{x_i}\\frac{y_i - y_{i-1}}{(x_i - s)^\\alpha h} ds $$\n",
    "\n",
    "Luego:\n",
    "\n",
    "$$\n",
    "\\begin{align}\n",
    "i &= 0 \\text{ : }\\hspace{1cm} y_0 = 0 \\\\\n",
    "\\\\\n",
    "i &=1 \\text{ : }\\hspace{1cm} \\frac{y_2 - 2y_1 + y_0}{h^2} = \\Theta(x_1) - \\frac{1}{\\Gamma{(1-\\alpha)}}\\int_{0}^{x_1}\\frac{y_1 - y_0}{(x_1 - s)^\\alpha h} ds \n",
    "\\\\\n",
    "i &=2 \\text{ : }\\hspace{1cm} \\frac{y_3 - 2y_2 + y_1}{h^2} = \\Theta(x_2) - \\frac{1}{\\Gamma{(1-\\alpha)}}\\int_{0}^{x_2}\\frac{y_2 - y_1}{(x_2 - s)^\\alpha h} ds \n",
    "\\\\\n",
    " \\vdots\n",
    "\\\\\n",
    "\\\\\n",
    "i &=n-1 \\text{ : }\\hspace{1cm} \\frac{y_n - 2y_{n-1} + y_{n-2}}{h^2} = \\Theta(x_{n-1}) - \\frac{1}{\\Gamma{(1-\\alpha)}}\\int_{0}^{x_{n-1}}\\frac{y_{n-1} - y_{n-2}}{(x_{n-1} - s)^\\alpha h} ds \n",
    "\\\\\n",
    "i &=n \\text{ : }\\hspace{1cm} y_n = 0\n",
    "\\end{align}\n",
    "$$\n",
    "\n",
    "Considerando las $n-1$ ecuaciones de los casos $i=1,2,\\cdots,n-1$, multiplicando por $h^2$.\n",
    "\n",
    "$$\n",
    "\\begin{align}\n",
    "y_{i+1} - 2y_{i} + y_{i-1} = h^2\\Theta(x_i) - \\frac{h(y_{i}-y_{i-1})}{\\Gamma{(1-\\alpha)}}\\int_0^{x_i}\\frac{ds}{(x_i-s)^\\alpha} & \\\\\n",
    "\\\\\n",
    "y_{i+1} - 2y_{i} + y_{i-1}  - h^2\\Theta(x_i)+\\frac{h y_i}{\\Gamma{(1-\\alpha)}}\\int_0^{x_i}\\frac{ds}{(x_i-s)^\\alpha}-\\frac{hy_{i-1}}{\\Gamma{(1-\\alpha)}}\\int_0^{x_i} \\frac{ds}{(x_i-s)^\\alpha} &= 0 \\\\\n",
    "\\\\\n",
    "y_{i-1} - \\frac{y_{i-1} h}{\\Gamma{(1-\\alpha)}}\\int_0^{x_i} \\frac{ds}{(x_i-s)^\\alpha} - 2y_i + \\frac{y_i h}{\\Gamma{(1-\\alpha)}}\\int_0^{x_i} \\frac{ds}{(x_i-s)^\\alpha} + y_{i+1} &= h^2\\Theta(x_i) \\\\\n",
    "\\\\\n",
    "y_{i-1} \\left(1-\\frac{h}{\\Gamma{(1-\\alpha)}}\\int_0^{x_i} \\frac{ds}{(x_i-s)^\\alpha}\\right) + y_i\\left(-2 + \\frac{h}{\\Gamma{(1-\\alpha)}}\\int_0^{x_i} \\frac{ds}{(x_i-s)^\\alpha} \\right) + y_{i+1} &= h^2\\Theta(x_i) \n",
    "\\end{align}\n",
    "$$\n",
    "\n",
    "Definiendo: \n",
    "$$\n",
    "\\gamma = 1 - \\frac{h}{\\Gamma{(1-\\alpha)}} \\int_0^{x_i} \\frac{ds}{(x_i - s)^\\alpha}\\\\\n",
    "\\delta = -2 + \\frac{h}{\\Gamma{(1-\\alpha)}} \\int_0^{x_i} \\frac{ds}{(x_i - s)^\\alpha}\n",
    "$$\n",
    "\n",
    "Obtenemos los valores de la solución resolviendo el sistema de ecuaciones lineales: \n",
    "\n",
    "$$\n",
    "\\left[ \\begin{array}{ccccc}\n",
    "\\delta & 1 & & \\cdots & 0\\\\\n",
    "\\gamma & \\delta & 1 & \\cdots & 0 \\\\\n",
    "\\vdots & \\ddots & \\ddots &  \\ddots & 0 \\\\\n",
    "\\vdots & \\cdots & \\gamma &  \\delta & 1 \\\\\n",
    "0 &  \\cdots & \\cdots & \\gamma & \\delta  \\end{array}  \\right] \n",
    "\\left[ \\begin{array}{c}\n",
    "y_1 \\\\\n",
    "y_2 \\\\\n",
    "\\vdots \\\\\n",
    "\\vdots \\\\\n",
    "y_{n-1}  \\end{array}  \\right] =\n",
    "\\left[ \\begin{array}{c}\n",
    "h^2\\Theta(x_1) \\\\\n",
    "h^2\\Theta(x_2) \\\\\n",
    "\\vdots \\\\\n",
    "\\vdots \\\\\n",
    "h^2\\Theta(x_{n-1})  \\end{array}  \\right] \n",
    "$$"
   ]
  },
  {
   "cell_type": "markdown",
   "metadata": {},
   "source": [
    "## Pregunta 2\n",
    "Implemente un algoritmo para resolver la FBVP que posea la siguiente firma:\n",
    "\n",
    "```python\n",
    "'''\n",
    "Input: \n",
    "g - (List) List of Functions that contains the Right Hand Side (RHS) of the FVBP.\n",
    "dg - (List) List of Functions that contains the derivatives of the functions in g(x).\n",
    "a - (float) Left boundary.\n",
    "b - (float) Right boundary.\n",
    "alpha - (float) Order of fractional derivative.\n",
    "n - (integer) Number of points on the discrete domain.\n",
    "m - (integer) Number of points used in numerical solver for integrals.\n",
    "y_a - (float) Left boundary condition, i.e, y(a) = y_a.\n",
    "y_b - (float) Right boundary condition, i.e, y(b) = y_b\n",
    "\n",
    "\n",
    "Output:\n",
    "y - (1D-array) Numerical solution.\n",
    "'''\n",
    "\n",
    "def solve_fbvp(g, dg, a, b, alpha, n, m, y_a, y_b):\n",
    "    ...\n",
    "    return [y]\n",
    "```\n",
    "\n",
    "Para resolver las integrales utilice los siguientes métodos:\n",
    "- Punto medio. \n",
    "- Trapecio.\n",
    "- Simpson.\n",
    "- Cuadratura Gaussiana.\n",
    "\n",
    "Para probar su algoritmo, utilice el FBVP de la pregunta $1$ con $\\alpha = 0.5$\n",
    "\n",
    "Nota: Lo que esta a la derecha del signo igual en el FBVP se le conoce como *Right Hand Side* (RHS)."
   ]
  },
  {
   "cell_type": "code",
   "execution_count": 1,
   "metadata": {},
   "outputs": [],
   "source": [
    "from scipy.special import gamma\n",
    "import numpy as np\n",
    "import matplotlib.pyplot as plt"
   ]
  },
  {
   "cell_type": "code",
   "execution_count": 2,
   "metadata": {},
   "outputs": [],
   "source": [
    "#Define parameters for this question\n",
    "alpha = 0.5 \n",
    "g1 = lambda x: (720/gamma(5+alpha))*x**(4+alpha)\n",
    "g2 = lambda x: -(40320/gamma(7+alpha))*x**(6+alpha)\n",
    "g3 = lambda x: x**6 - x**8"
   ]
  },
  {
   "cell_type": "code",
   "execution_count": 3,
   "metadata": {},
   "outputs": [],
   "source": [
    "dg1 = lambda x: (720/gamma(5+alpha))*(4+alpha)*x**(3+alpha)\n",
    "dg2 = lambda x: -(40320/gamma(7+alpha))*(6+alpha)*x**(5+alpha)\n",
    "dg3 = lambda x: (6*x**5 - 8*x**7)"
   ]
  },
  {
   "cell_type": "code",
   "execution_count": 4,
   "metadata": {},
   "outputs": [],
   "source": [
    "g = [g1, g2, g3]\n",
    "dg = [dg1, dg2, dg3]"
   ]
  },
  {
   "cell_type": "code",
   "execution_count": 5,
   "metadata": {},
   "outputs": [],
   "source": [
    "#Numerical methods for solve the integrals \n",
    "def trapezoid(myfun, N, a, b):\n",
    "    f = np.vectorize(myfun) \n",
    "    s = np.linspace(a, b, N+1) \n",
    "    h = s[1]-s[0]\n",
    "    sleft = s[:-1]\n",
    "    sright = s[1:]\n",
    "    int_val = 0.5*h*sum(f(sleft)+f(sright))\n",
    "    return int_val\n",
    "\n",
    "def midpoint(myfun, N, a, b):\n",
    "    f = np.vectorize(myfun) \n",
    "    x = np.linspace(a, b, N+1)\n",
    "    dx = x[1]-x[0]\n",
    "    midpoints = x[:-1] + .5*dx\n",
    "    midpoint_values = f(midpoints)\n",
    "    int_val = sum(midpoint_values*dx)\n",
    "    return int_val\n",
    "\n",
    "def simpsons(myfun, N, a, b):\n",
    "    f = np.vectorize(myfun) # So we can apply it to arrays without trouble\n",
    "    x = np.linspace(a, b, N+1) # We want N bins, so N+1 points\n",
    "    if N%2==1:\n",
    "        if verbose: print(\"Simpsons rule only applicable to even number of segments\")\n",
    "        return np.nan\n",
    "    dx = x[1]-x[0]\n",
    "    xleft   = x[:-2:2]\n",
    "    xmiddle = x[1::2]\n",
    "    xright  = x[2::2]\n",
    "    int_val = sum((f(xleft)+4*f(xmiddle)+f(xright))*dx/3)\n",
    "    return int_val\n",
    "\n",
    "def gaussianquad(myfun, N, a, b):\n",
    "    f = np.vectorize(myfun) \n",
    "    x, w = gaussian_nodes_and_weights(N, a, b)\n",
    "    int_val = sum( w * f(x) )\n",
    "    return int_val\n",
    "\n",
    "def gaussian_nodes_and_weights(N, a, b):\n",
    "    if N==1: \n",
    "        return np.array([1]), np.array([2])\n",
    "    beta = .5 / np.sqrt(1.-(2.*np.arange(1.,N))**(-2))\n",
    "    T = np.diag(beta,1) + np.diag(beta,-1)\n",
    "    D, V = np.linalg.eigh(T)\n",
    "    x = D\n",
    "    x = .5 * ( (b-a)*x + b + a) # Rescaling\n",
    "    w = 2*V[0,:]**2\n",
    "    w = .5*(b-a)*w\n",
    "    return x, w"
   ]
  },
  {
   "cell_type": "markdown",
   "metadata": {},
   "source": [
    "La función ```get_thetas``` se encargará de construir parte del lado derecho de nuestro sistema de ecuaciones, al que llamamos $\\Theta(x)$. \n",
    "Este $\\Theta(x)$ tiene una serie de integrales que dependen de los valores de nuestro $x_i$ actual, por lo tanto, lo que se hará para aplicar correctamente la derivada de caputo a las funciones involucradas, será componer una función a integrar, que estará compuesta por la derivada (parámetro de la función ```get_thetas``` y la función que involucra el $x_i$ (línea 8 de ```get_thetas```), la composición la llamaremos ```myfun```. Luego, dependiendo del método de integración a utilizar, se procede a realizar el cálculo de las integrales y se retorna una lista con los $\\Theta(x_i)$, donde $i=1,\\dots,n-1$."
   ]
  },
  {
   "cell_type": "code",
   "execution_count": 6,
   "metadata": {},
   "outputs": [],
   "source": [
    "def get_thetas(x, m, alpha, dg, method):\n",
    "    x_mid = x[1:-1]\n",
    "    thetas = [] \n",
    "    \n",
    "    #resolviendo y sumando integrales\n",
    "    for i in x_mid:\n",
    "        integrals = 0\n",
    "        dgx = lambda x: 1/((i-x)**alpha)\n",
    "        for f in dg:\n",
    "            myfun = lambda z: dgx(z) * f(z)\n",
    "            if method=='trapezoid':\n",
    "                integrals += trapezoid(myfun, m, 0, i-0.001)\n",
    "            elif method=='simpsons':\n",
    "                integrals += simpsons(myfun, m, 0, i-0.001)\n",
    "            elif method=='gaussian':\n",
    "                integrals += gaussianquad(myfun, m, 0, i)\n",
    "            else:\n",
    "                integrals += midpoint(myfun, m, 0, i)\n",
    "        thetas_i = 1/gamma(1-alpha)*integrals\n",
    "        thetas.append(thetas_i)\n",
    "    return thetas"
   ]
  },
  {
   "cell_type": "markdown",
   "metadata": {},
   "source": [
    "La función ```get_deltas_gammas``` se encargará de calcular correctamente los valores de las diagonales de la matriz de nuestro sistema de ecuaciones, estos valores son los $\\gamma$ y $\\delta$ definidos previamente. "
   ]
  },
  {
   "cell_type": "code",
   "execution_count": 7,
   "metadata": {},
   "outputs": [],
   "source": [
    "#construyendo la diagonal delta y la diagonal de gammas\n",
    "def get_deltas_gammas(x, h, m, alpha, method):\n",
    "    x_i = x[1:-1]\n",
    "    deltas = []\n",
    "    gammas = []\n",
    "    for i in x_i:\n",
    "        dgx = lambda x: 1/((i-x)**alpha)\n",
    "        if method=='trapezoid':\n",
    "            delta_i = (-2 + h/gamma(1-alpha)*trapezoid(dgx, m, 0, i-0.001))\n",
    "            gamma_i = (1 - h/gamma(1-alpha)*trapezoid(dgx, m, 0, i-0.001))\n",
    "        elif method=='simpsons':\n",
    "            delta_i = (-2 + h/gamma(1-alpha)*simpsons(dgx, m, 0, i-0.001))\n",
    "            gamma_i = (1 - h/gamma(1-alpha)*simpsons(dgx, m, 0, i-0.001))\n",
    "        elif method=='gaussian':\n",
    "            delta_i = (-2 + h/gamma(1-alpha)*gaussianquad(dgx, m, 0, i))\n",
    "            gamma_i = (1 - h/gamma(1-alpha)*gaussianquad(dgx, m, 0, i))\n",
    "        else:\n",
    "            delta_i = (-2 + h/gamma(1-alpha)*midpoint(dgx, m, 0, i))\n",
    "            gamma_i = (1 - h/gamma(1-alpha)*midpoint(dgx, m, 0, i))\n",
    "        deltas.append(delta_i)\n",
    "        gammas.append(gamma_i)\n",
    "    return deltas, gammas[:-1]"
   ]
  },
  {
   "cell_type": "markdown",
   "metadata": {},
   "source": [
    "Finalmente, nuestra función ```solve_fbvp(g, dg, a, b, alpha, n, m, y_a, y_b, method)``` nos calculará el resultado del sistema de ecuaciones, utilizando las dos funciones anteriormente descritas (```get_thetas``` y ```get_deltas_gamma```). \n",
    "Básicamente, se construye la matriz A tridiagonal, con diagonal superior de $1$, diagonal central de $\\delta$ y diagonal inferior de $\\gamma$.\n",
    "Se utilizan las condiciones de borde $y_a$ e $y_b$ para obtener la solución completa.\n",
    "\n",
    "Se ha agregado el parámetro ```method```, el cual nos da la opción de ingresar el método de integración que se desee utilizar. \n",
    "\n",
    "Estos métodos pueden ser: \n",
    "- trapezoid\n",
    "- simpsons\n",
    "- gaussian\n",
    "- midpoint"
   ]
  },
  {
   "cell_type": "code",
   "execution_count": 8,
   "metadata": {},
   "outputs": [],
   "source": [
    "def solve_fbvp(g, dg, a, b, alpha, n, m, y_a, y_b, method):\n",
    "    x = np.linspace(a, b, n)\n",
    "    h = x[1]-x[0]\n",
    "    thetas = np.dot(h**2, get_thetas(x, m, alpha, dg, method))\n",
    "    deltas, gammas = get_deltas_gammas(x, h, m, alpha, method)\n",
    "    #seteando la matriz\n",
    "    A = np.zeros((n-2,n-2))\n",
    "    for i in range(n-2):\n",
    "        A[i][i] = deltas[i]\n",
    "        try:\n",
    "            A[i][i+1] = 1\n",
    "            A[i+1][i] = gammas[i]\n",
    "        except:\n",
    "            pass\n",
    "    #Asegurando el tipo del objeto float64\n",
    "    thetas = [float(i) for i in thetas]\n",
    "    sol = np.linalg.solve(A, thetas)\n",
    "    sol1 = np.zeros((n))\n",
    "    sol1[0] = y_a\n",
    "    sol1[-1] = y_b\n",
    "    sol1[1:-1] = sol\n",
    "    return sol1"
   ]
  },
  {
   "cell_type": "code",
   "execution_count": 9,
   "metadata": {},
   "outputs": [],
   "source": [
    "a, b = 0, 1\n",
    "n = 100\n",
    "m = 100\n",
    "y_a = 0\n",
    "y_b = 0\n",
    "method = 'gaussian'\n",
    "sol = solve_fbvp(g, dg, a, b, alpha, n, m, y_a, y_b, method)"
   ]
  },
  {
   "cell_type": "markdown",
   "metadata": {},
   "source": [
    "#### Warning: En gaussian, con $m$ muy grande (~1000) tarda mucho en computar."
   ]
  },
  {
   "cell_type": "markdown",
   "metadata": {},
   "source": [
    "Nos percatamos que los métodos de integración que ofrecen mejores resultados son trapezoid y gaussian (para $n=100$, $m=100$)."
   ]
  },
  {
   "cell_type": "code",
   "execution_count": 10,
   "metadata": {},
   "outputs": [],
   "source": [
    "def real_sol(x):\n",
    "    return (1-x**2)*x**6"
   ]
  },
  {
   "cell_type": "markdown",
   "metadata": {},
   "source": [
    "Comparando con la solución real (calculada en la celda de arriba), podemos ver que el método ofrece una muy buena aproximación, también nos percatamos que a medida que se aumenta el número de puntos de integración el algoritmo arroja mejores resultados. "
   ]
  },
  {
   "cell_type": "code",
   "execution_count": 11,
   "metadata": {},
   "outputs": [
    {
     "data": {
      "image/png": "[encoded data removed]",
      "text/plain": [
       "<Figure size 432x288 with 1 Axes>"
      ]
     },
     "metadata": {},
     "output_type": "display_data"
    }
   ],
   "source": [
    "x = np.linspace(0, 1, n)\n",
    "sol_real = real_sol(x)\n",
    "line1, = plt.plot(sol, 'g-')\n",
    "line2, = plt.plot(sol_real, 'r')\n",
    "plt.legend([line1, line2], ['solución aproximada por nuestro método', 'solucion real'])\n",
    "plt.title('Comparación de soluciones')\n",
    "plt.xlabel('Número de iteraciones')\n",
    "plt.ylabel('Valor de la solución')\n",
    "plt.show()"
   ]
  },
  {
   "cell_type": "markdown",
   "metadata": {},
   "source": [
    "### Pregunta 3 "
   ]
  },
  {
   "cell_type": "markdown",
   "metadata": {},
   "source": [
    "Resuelva los siguientes FBVP con su algoritmo, muestre en diferentes gráficos las distintas soluciones $y(x)$ encontradas para cada FBVP a medida que se hace variar con un *widget* el parámetro $\\alpha$.\n",
    "\n",
    "# 1)\n",
    "$$\n",
    "D^{-\\alpha}\\left[ y''(x) \\right] + y(x) = \\sin(x),\\\\\n",
    "y(0)=y(1) = 0,\n",
    "$$"
   ]
  },
  {
   "cell_type": "code",
   "execution_count": 12,
   "metadata": {},
   "outputs": [],
   "source": [
    "g1 = lambda x: np.sin(x)\n",
    "dg1 = lambda x: np.cos(x)\n",
    "g = [g1]\n",
    "dg = [dg1]\n",
    "a, b = 0, 1\n",
    "n = 100\n",
    "m = 1000\n",
    "y_a = 0\n",
    "y_b = 0\n",
    "method = 'trapezoid'\n",
    "sol2 = solve_fbvp(g, dg, a, b, alpha, n, m, y_a, y_b, method)"
   ]
  },
  {
   "cell_type": "code",
   "execution_count": 13,
   "metadata": {},
   "outputs": [
    {
     "data": {
      "image/png": "[encoded data removed]",
      "text/plain": [
       "<Figure size 432x288 with 1 Axes>"
      ]
     },
     "metadata": {},
     "output_type": "display_data"
    }
   ],
   "source": [
    "line3, = plt.plot(sol2)\n",
    "plt.legend([line3], ['Solution for FBVP'])\n",
    "plt.title('Solución para el FBVP')\n",
    "plt.xlabel('Número de iteraciones')\n",
    "plt.ylabel('Valor de la solución')\n",
    "plt.show()"
   ]
  },
  {
   "cell_type": "markdown",
   "metadata": {},
   "source": [
    "# 2)\n",
    "$$\n",
    "D^{-\\alpha}\\left[ y''(x) \\right] + y(x) = (-x^2 + (-3 + 1.2)x - 0.6^2)(x^{0.6}\\Upsilon(x,0.6) + (x - x^2))e^x ,\\\\\n",
    "y(0)=y(1) = 0,\n",
    "$$\n",
    "donde $\\Upsilon$ es la función Upsilon [[6]](#ref)."
   ]
  },
  {
   "cell_type": "code",
   "execution_count": 14,
   "metadata": {},
   "outputs": [],
   "source": [
    "import sys\n",
    "import mpmath\n",
    "sys.modules['sympy.mpmath'] = mpmath"
   ]
  },
  {
   "cell_type": "code",
   "execution_count": 15,
   "metadata": {},
   "outputs": [],
   "source": [
    "from sympy.mpmath import *\n",
    "mp.dps = 25; mp.pretty = True\n",
    "\n",
    "upsilon = lambda x: (0.6*coth(0.6*x))/2*x - 1/(2*x**2) #Upsilon function\n",
    "Dupsilon = lambda x: (-0.6/(2*x**2))*coth(0.6*x) + (0.6/2*x)*((-csch(0.6*x))**2)*0.6 + 2/(2*x**3)"
   ]
  },
  {
   "cell_type": "markdown",
   "metadata": {},
   "source": [
    "Tomaremos la función del lado derecho del FBVP como 1 sola función que consta del producto de 3 funciones, por lo que nuestra lista de funciones que recibirá el algoritmo será una sola función, su derivada será por regla de la cadena, la derivada correspondiente al producto de 3 funciones. \n",
    "\n",
    "$$\n",
    "\\begin{align}\n",
    "D^{-\\alpha}\\left[ y''(x) \\right] + y(x) &= (-x^2 + (-3 + 1.2)x - 0.6^2)(x^{0.6}\\Upsilon(x,0.6) + (x - x^2))e^x ,\\\\\n",
    "D^{-\\alpha}\\left[ y''(x) \\right] + y(x) &= f(x), \\\\\n",
    "\\end{align}\n",
    "$$\n",
    "\n",
    "con:\n",
    "$$\n",
    "f(x) = (-x^2 - 2.2x - 0.36)(x^{0.6}\\Upsilon_{0.6}{(x)} + x - x^2)e^x, \\\\\n",
    "$$\n",
    "\n",
    "y su derivada:\n",
    "$$\n",
    "f'(x) = (-2x-2.2)(x^{0.6}\\Upsilon_{0.6}{(x)}+x-x^2)e^x + (-x^2-2.2x-0.36)(0.6x^{-0.4}\\Upsilon_{0.6}{(x)}+x^{0.6}\\Upsilon'_{0.6}{(x)} + 1 - 2x)e^x + (-x^2 - 2.2x -0.36)(x^{0.6}\\Upsilon_{0.6}{(x)} + x - x^2)e^x\n",
    "$$"
   ]
  },
  {
   "cell_type": "code",
   "execution_count": 16,
   "metadata": {},
   "outputs": [],
   "source": [
    "f_x = lambda z: (-z**2 - 2.2*z - 0.36)*(z**0.6*upsilon(z)+ z - z**2)*np.exp(z)"
   ]
  },
  {
   "cell_type": "code",
   "execution_count": null,
   "metadata": {},
   "outputs": [],
   "source": [
    "f_px = lambda z: (-2*z - 2.2)*((z**0.6)*upsilon(z) + z - z**2)*np.exp(z)+(-z**2-2.2*z-0.36)*(0.6*(z**-0.4)*upsilon(z)+(z**0.6)*Dupsilon(z) + 1 - 2*z)*np.exp(z) + (-z**2 - 2.2*z - 0.36)*((z**0.6)*upsilon(z)+z-z**2)*np.exp(z)"
   ]
  },
  {
   "cell_type": "code",
   "execution_count": null,
   "metadata": {},
   "outputs": [],
   "source": [
    "g = [f_x]\n",
    "dg = [f_px]\n",
    "a, b = 0, 1\n",
    "n = 100\n",
    "m = 100\n",
    "y_a = 0\n",
    "y_b = 0\n",
    "method = 'midpoint'\n",
    "sol3 = solve_fbvp(g, dg, a, b, alpha, n, m, y_a, y_b, method)"
   ]
  },
  {
   "cell_type": "code",
   "execution_count": null,
   "metadata": {},
   "outputs": [],
   "source": [
    "line4, = plt.plot(sol3)\n",
    "plt.legend([line3], ['Solution for FBVP'])\n",
    "plt.title('Solución para el FBVP')\n",
    "plt.xlabel('Número de iteraciones')\n",
    "plt.ylabel('Valor de la solución')\n",
    "plt.show()"
   ]
  },
  {
   "cell_type": "markdown",
   "metadata": {},
   "source": [
    "# 3)\n",
    "$$\n",
    "D^{-\\alpha}\\left[ y''(x) \\right] + xy(x) = \\exp(x),\\\\\n",
    "y(0)=y(1) = 0,\n",
    "$$\n",
    "\n",
    "Para este FBVP tenemos que ahora hay una función multiplicando nuestro $y(x)$, por lo que hay que modificar la estructura de nuestro algoritmo."
   ]
  },
  {
   "cell_type": "markdown",
   "metadata": {},
   "source": [
    "$$\n",
    "D^{-\\alpha}\\left[ y''(x) \\right] + xy(x) = \\exp(x),\\\\\n",
    "$$\n",
    "\n",
    "$$\n",
    "y''(x) + \\frac{1}{\\Gamma{(1-\\alpha)}} \\left(\\int_{0}^{x} \\frac{s y'(s)}{(x-s)^\\alpha}ds + \\int_{0}^{x} \\frac{y(s)}{(x-s)^\\alpha}ds\\right) = \\frac{1}{\\Gamma{(1-\\alpha)}}\\int_{0}^{x}\\frac{e^s}{(x-s)^\\alpha}ds \\\\\n",
    "$$\n",
    "\n",
    "Aproximando mediante diferencias finitas:\n",
    "$$\n",
    "\\begin{align}\n",
    "\\frac{y_{i+1}-2y_i + y_{i-1}}{h^2} + \\frac{1}{\\Gamma{(1-\\alpha)}}\\left(\\int_{0}^{x}\\frac{s(y_i-y_{i-1})}{(x-s)^\\alpha}ds + \\int_{0}^{x}\\frac{y_i}{(x-s)^\\alpha}ds\\right) &= \\Theta(x) \\\\\n",
    "\\\\\n",
    "\\frac{y_{i+1}-2y_i + y_{i-1}}{h^2} + \\frac{y_i-y_{i-1}}{\\Gamma{(1-\\alpha)}}\\int_{0}^{x}\\frac{s}{(x-s)^\\alpha}ds + \\frac{y_i}{\\Gamma{(1-\\alpha)}}\\int_{0}^{x}\\frac{1}{(x-s)^\\alpha}ds &= \\Theta(x) \\\\\n",
    "\\\\\n",
    "\\frac{y_{i+1}-2y_i + y_{i-1}}{h^2} + \\frac{y_i}{\\Gamma{(1-\\alpha)}}\\int_{0}^{x}\\frac{s}{h(x-s)^\\alpha}ds - \\frac{y_{i-1}}{\\Gamma({1-\\alpha}}\\int_{0}^{x}\\frac{s}{h(x-s)^\\alpha}ds + y_i\\int_{0}^{x}\\frac{1}{h(x-s)^\\alpha}ds &= \\Theta(x)\n",
    "\\end{align}\n",
    "$$\n",
    "\n",
    "Multiplicando por $h^2$ y agrupando términos: \n",
    "\n",
    "$$\n",
    "\\begin{align}\n",
    "y_{i+1} +y_i \\left(-2 + \\frac{h}{\\Gamma{(1-\\alpha)}}\\int_{0}^{x}\\frac{s}{(x-s)^\\alpha}ds + h^2 \\int_{0}^{x}\\frac{1}{(x-s)^\\alpha}ds \\right) + y_{i-1} \\left(1- \\frac{h}{\\Gamma{(1-\\alpha)}}\\int_{0}^{x}\\frac{s}{(x-s)^\\alpha}ds \\right) &= h^2 \\Theta(x)\\\\\n",
    "\\end{align}\n",
    "$$\n",
    "\n",
    "$$\n",
    "y_0 = y_1 = 0\n",
    "$$\n",
    "\n",
    "Sea:\n",
    "$$\n",
    "\\gamma = \\left(1 - \\frac{h}{\\Gamma{(1-\\alpha)}}\\int_{0}^{x}\\frac{s}{(x-s)^\\alpha}ds \\right) \\\\\n",
    "\\\\\n",
    "\\delta = \\left(-2 + \\frac{h}{\\Gamma{(1-\\alpha)}}\\int_{0}^{x}\\frac{s}{(x-s)^\\alpha}ds + h^2\\int_{0}^{x}\\frac{1}{(x-s)^\\alpha}ds \\right) \\\\\n",
    "$$\n",
    "\n",
    "Obtenemos los valores resolviendo el sistema de ecuaciones lineales: \n",
    "\n",
    "$$\n",
    "\\left[ \\begin{array}{ccccc}\n",
    "\\delta & 1 & & \\cdots & 0\\\\\n",
    "\\gamma & \\delta & 1 & \\cdots & 0 \\\\\n",
    "\\vdots & \\ddots & \\ddots &  \\ddots & 0 \\\\\n",
    "\\vdots & \\cdots & \\gamma &  \\delta & 1 \\\\\n",
    "0 &  \\cdots & \\cdots & \\gamma & \\delta  \\end{array}  \\right] \n",
    "\\left[ \\begin{array}{c}\n",
    "y_1 \\\\\n",
    "y_2 \\\\\n",
    "\\vdots \\\\\n",
    "\\vdots \\\\\n",
    "y_{n-1}  \\end{array}  \\right] =\n",
    "\\left[ \\begin{array}{c}\n",
    "h^2\\Theta(x_1) \\\\\n",
    "h^2\\Theta(x_2) \\\\\n",
    "\\vdots \\\\\n",
    "\\vdots \\\\\n",
    "h^2\\Theta(x_{n-1})  \\end{array}  \\right] \n",
    "$$"
   ]
  },
  {
   "cell_type": "code",
   "execution_count": null,
   "metadata": {},
   "outputs": [],
   "source": [
    "#construyendo la diagonal delta y la diagonal de gammas\n",
    "def get_deltas_gammas2(x, h, m, alpha, method, gx):\n",
    "    x_i = x[1:-1]\n",
    "    deltas = []\n",
    "    gammas = []\n",
    "    for i in x_i:\n",
    "        dgx = lambda x: 1/((i-x)**alpha)\n",
    "        dgx2 = lambda z: dgx(z) * gx(z) \n",
    "        if method=='trapezoid':\n",
    "            delta_i = (-2 + h/gamma(1-alpha)*trapezoid(dgx2, m, 0, i-0.001) + h**2*trapezoid(dgx, m, 0, i-0.001))\n",
    "            gamma_i = (1 - h/gamma(1-alpha)*trapezoid(dgx2, m, 0, i-0.001))\n",
    "        elif method=='simpsons':\n",
    "            delta_i = (-2 + h/gamma(1-alpha)*simpsons(dgx2, m, 0, i-0.001) + h**2*simpsons(dgx, m, 0, i-0.001))\n",
    "            gamma_i = (1 - h/gamma(1-alpha))*simpsons(dgx, m, 0, i-0.001)\n",
    "        elif method=='gaussian':\n",
    "            delta_i = (-2 + h/gamma(1-alpha)*gaussianquad(dgx2, m, 0, i-0.001) + h**2*gaussianquad(dgx, m, 0, i-0.001))\n",
    "            gamma_i = (1 - h/gamma(1-alpha))*gaussianquad(dgx, m, 0, i)\n",
    "        else:\n",
    "            delta_i = (-2 + h/gamma(1-alpha)*midpoint(dgx2, m, 0, i-0.001) + h**2*midpoint(dgx, m, 0, i-0.001))\n",
    "            gamma_i = (1 - h/gamma(1-alpha))*midpoint(dgx, m, 0, i)\n",
    "        deltas.append(delta_i)\n",
    "        gammas.append(gamma_i)\n",
    "    return deltas, gammas[:-1]"
   ]
  },
  {
   "cell_type": "code",
   "execution_count": null,
   "metadata": {},
   "outputs": [],
   "source": [
    "def solve_fbvp2(g, dg, a, b, alpha, n, m, y_a, y_b, method, gx):\n",
    "    x = np.linspace(a, b, n)\n",
    "    h = x[1]-x[0]\n",
    "    thetas = np.dot(h**2, get_thetas(x, m, alpha, dg, method))\n",
    "    deltas, gammas = get_deltas_gammas2(x, h, m, alpha, method, gx)\n",
    "    #seteando la matriz\n",
    "    A = np.zeros((n-2,n-2))\n",
    "    for i in range(n-2):\n",
    "        A[i][i] = deltas[i]\n",
    "        try:\n",
    "            A[i][i+1] = 1\n",
    "            A[i+1][i] = gammas[i]\n",
    "        except:\n",
    "            pass\n",
    "    #Asegurando el tipo del objeto float64\n",
    "    thetas = [float(i) for i in thetas]\n",
    "    sol = np.linalg.solve(A, thetas)\n",
    "    sol1 = np.zeros((n))\n",
    "    sol1[0] = y_a\n",
    "    sol1[-1] = y_b\n",
    "    sol1[1:-1] = sol\n",
    "    return sol1"
   ]
  },
  {
   "cell_type": "code",
   "execution_count": null,
   "metadata": {},
   "outputs": [],
   "source": [
    "g1 = lambda x: np.exp(x)\n",
    "dg1 = lambda x: np.exp(x)\n",
    "gx = lambda x: x\n",
    "g3 = [g1]\n",
    "dg3 = [dg1]"
   ]
  },
  {
   "cell_type": "code",
   "execution_count": null,
   "metadata": {},
   "outputs": [],
   "source": [
    "alpha = 0.5 \n",
    "a, b = 0, 1\n",
    "n = 100\n",
    "m = 100\n",
    "y_a = 0\n",
    "y_b = 0"
   ]
  },
  {
   "cell_type": "code",
   "execution_count": null,
   "metadata": {},
   "outputs": [],
   "source": [
    "sol4 = solve_fbvp2(g3, dg3, a, b, alpha, n, m, y_a, y_b, 'trapezoid', gx)"
   ]
  },
  {
   "cell_type": "code",
   "execution_count": null,
   "metadata": {},
   "outputs": [],
   "source": [
    "x = np.linspace(0, 1, n)\n",
    "line1, = plt.plot(sol4, 'g-')\n",
    "plt.legend([line1], ['solución aproximada por nuestro método'])\n",
    "plt.title('Valor de la solución para el FBVP')\n",
    "plt.xlabel('Número de iteraciones')\n",
    "plt.ylabel('Valor de la solución')\n",
    "plt.show()"
   ]
  },
  {
   "cell_type": "code",
   "execution_count": null,
   "metadata": {},
   "outputs": [],
   "source": []
  }
 ],
 "metadata": {
  "celltoolbar": "Raw Cell Format",
  "kernelspec": {
   "display_name": "Python 3",
   "language": "python",
   "name": "python3"
  },
  "language_info": {
   "codemirror_mode": {
    "name": "ipython",
    "version": 3
   },
   "file_extension": ".py",
   "mimetype": "text/x-python",
   "name": "python",
   "nbconvert_exporter": "python",
   "pygments_lexer": "ipython3",
   "version": "3.6.4"
  }
 },
 "nbformat": 4,
 "nbformat_minor": 2
}
